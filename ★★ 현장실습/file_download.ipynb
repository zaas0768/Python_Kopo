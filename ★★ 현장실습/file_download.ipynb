{
 "cells": [
  {
   "cell_type": "markdown",
   "metadata": {},
   "source": [
    "# 1. 공공데이터포털 xml 파일 불러오기"
   ]
  },
  {
   "cell_type": "code",
   "execution_count": 8,
   "metadata": {
    "collapsed": true
   },
   "outputs": [],
   "source": [
    "import urllib.request\n",
    "import pandas as pd"
   ]
  },
  {
   "cell_type": "markdown",
   "metadata": {},
   "source": [
    "### 1. url 받기 (xml 타입)"
   ]
  },
  {
   "cell_type": "code",
   "execution_count": 9,
   "metadata": {
    "collapsed": true
   },
   "outputs": [],
   "source": [
    "xmlurl = \"http://openapi.molit.go.kr/OpenAPI_ToolInstallPackage/service/rest/RTMSOBJSvc/getRTMSDataSvcAptTradeDev?serviceKey=AT33s775KYpJOkUBJu0dxkJuUeIfDIOJRzAH084EQS3JN%2BzFjErLHuk%2FGZa9L4gBTSGCzeA69tI9PwLp7B37IQ%3D%3D&pageNo=1&startPage=1&numOfRows=10&pageSize=10&LAWD_CD=11110&DEAL_YMD=201512\""
   ]
  },
  {
   "cell_type": "markdown",
   "metadata": {},
   "source": [
    "### 2. xml 데이터 불러오기"
   ]
  },
  {
   "cell_type": "code",
   "execution_count": 14,
   "metadata": {},
   "outputs": [],
   "source": [
    "### 데이터 불러오기\n",
    "request = urllib.request.Request(xmlurl) \n",
    "request.get_method = lambda: 'GET' \n",
    "response_body = urllib.request.urlopen(request).read() \n",
    "fullXmlString = str(response_body, \"utf-8\")"
   ]
  },
  {
   "cell_type": "code",
   "execution_count": 17,
   "metadata": {
    "scrolled": true
   },
   "outputs": [
    {
     "data": {
      "text/plain": [
       "'<?xml version=\"1.0\" encoding=\"UTF-8\" standalone=\"yes\"?><response><header><resultCode>00</resultCode><resultMsg>NORMAL SERVICE.</resultMsg></header><body><items><item><거래금액>    82,500</거래금액><건축년도>2008</건축년도><년>2015</년><도로명>사직로8길</도로명><도로명건물본번호코드>00004</도로명건물본번호코드><도로명건물부번호코드>00000</도로명건물부번호코드><도로명시군구코드>11110</도로명시군구코드><도로명일련번호코드>03</도로명일련번호코드><도로명지상지하코드>0</도로명지상지하코드><도로명코드>4100135</도로명코드><법정동> 사직동</법정동><법정동본번코드>0009</법정동본번코드><법정동부번코드>0000</법정동부번코드><법정동시군구코드>11110</법정동시군구코드><법정동읍면동코드>11500</법정동읍면동코드><법정동지번코드>1</법정동지번코드><아파트>광화문풍림스페이스본(101동~105동)</아파트><월>12</월><일>1~10</일><일련번호>11110-2203</일련번호><전용면적>94.51</전용면적><지번>9</지번><지역코드>11110</지역코드><층>11</층></item><item><거래금액>    60,000</거래금액><건축년도>1981</건축년도><년>2015</년><도로명>세종대로23길</도로명><도로명건물본번호코드>00047</도로명건물본번호코드><도로명건물부번호코드>00000</도로명건물부번호코드><도로명시군구코드>11110</도로명시군구코드><도로명일련번호코드>02</도로명일련번호코드><도로명지상지하코드>0</도로명지상지하코드><도로명코드>4100190</도로명코드><법정동> 당주동</법정동><법정동본번코드>0145</법정동본번코드><법정동부번코드>0000</법정동부번코드><법정동시군구코드>11110</법정동시군구코드><법정동읍면동코드>11700</법정동읍면동코드><법정동지번코드>1</법정동지번코드><아파트>롯데미도파광화문빌딩</아파트><월>12</월><일>21~31</일><일련번호>11110-12</일련번호><전용면적>149.95</전용면적><지번>145</지번><지역코드>11110</지역코드><층>8</층></item><item><거래금액>   130,000</거래금액><건축년도>2004</건축년도><년>2015</년><도로명>경희궁2길</도로명><도로명건물본번호코드>00005</도로명건물본번호코드><도로명건물부번호코드>00005</도로명건물부번호코드><도로명시군구코드>11110</도로명시군구코드><도로명일련번호코드>01</도로명일련번호코드><도로명지상지하코드>0</도로명지상지하코드><도로명코드>4100005</도로명코드><법정동> 내수동</법정동><법정동본번코드>0110</법정동본번코드><법정동부번코드>0015</법정동부번코드><법정동시군구코드>11110</법정동시군구코드><법정동읍면동코드>11800</법정동읍면동코드><법정동지번코드>1</법정동지번코드><아파트>킹스매너</아파트><월>12</월><일>1~10</일><일련번호>11110-118</일련번호><전용면적>194.43</전용면적><지번>110-15</지번><지역코드>11110</지역코드><층>6</층></item><item><거래금액>   105,000</거래금액><건축년도>2004</건축년도><년>2015</년><도로명>사직로8길</도로명><도로명건물본번호코드>00024</도로명건물본번호코드><도로명건물부번호코드>00000</도로명건물부번호코드><도로명시군구코드>11110</도로명시군구코드><도로명일련번호코드>05</도로명일련번호코드><도로명지상지하코드>0</도로명지상지하코드><도로명코드>4100135</도로명코드><법정동> 내수동</법정동><법정동본번코드>0071</법정동본번코드><법정동부번코드>0000</법정동부번코드><법정동시군구코드>11110</법정동시군구코드><법정동읍면동코드>11800</법정동읍면동코드><법정동지번코드>1</법정동지번코드><아파트>경희궁의아침2단지</아파트><월>12</월><일>11~20</일><일련번호>11110-115</일련번호><전용면적>124.17</전용면적><지번>71</지번><지역코드>11110</지역코드><층>8</층></item><item><거래금액>   120,000</거래금액><건축년도>2003</건축년도><년>2015</년><도로명>사직로8길</도로명><도로명건물본번호코드>00020</도로명건물본번호코드><도로명건물부번호코드>00000</도로명건물부번호코드><도로명시군구코드>11110</도로명시군구코드><도로명일련번호코드>05</도로명일련번호코드><도로명지상지하코드>0</도로명지상지하코드><도로명코드>4100135</도로명코드><법정동> 내수동</법정동><법정동본번코드>0095</법정동본번코드><법정동부번코드>0000</법정동부번코드><법정동시군구코드>11110</법정동시군구코드><법정동읍면동코드>11800</법정동읍면동코드><법정동지번코드>1</법정동지번코드><아파트>경희궁 파크팰리스</아파트><월>12</월><일>21~31</일><일련번호>11110-107</일련번호><전용면적>146.33</전용면적><지번>95</지번><지역코드>11110</지역코드><층>4</층></item><item><거래금액>    17,000</거래금액><건축년도>2014</건축년도><년>2015</년><도로명>대학로</도로명><도로명건물본번호코드>00047</도로명건물본번호코드><도로명건물부번호코드>00000</도로명건물부번호코드><도로명시군구코드>11110</도로명시군구코드><도로명일련번호코드>05</도로명일련번호코드><도로명지상지하코드>0</도로명지상지하코드><도로명코드>3100002</도로명코드><법정동> 연건동</법정동><법정동본번코드>0195</법정동본번코드><법정동부번코드>0010</법정동부번코드><법정동시군구코드>11110</법정동시군구코드><법정동읍면동코드>16600</법정동읍면동코드><법정동지번코드>1</법정동지번코드><아파트>이화에수풀</아파트><월>12</월><일>11~20</일><일련번호>11110-2359</일련번호><전용면적>16.98</전용면적><지번>195-10</지번><지역코드>11110</지역코드><층>8</층></item><item><거래금액>    17,000</거래금액><건축년도>2014</건축년도><년>2015</년><도로명>대학로</도로명><도로명건물본번호코드>00047</도로명건물본번호코드><도로명건물부번호코드>00000</도로명건물부번호코드><도로명시군구코드>11110</도로명시군구코드><도로명일련번호코드>05</도로명일련번호코드><도로명지상지하코드>0</도로명지상지하코드><도로명코드>3100002</도로명코드><법정동> 연건동</법정동><법정동본번코드>0195</법정동본번코드><법정동부번코드>0010</법정동부번코드><법정동시군구코드>11110</법정동시군구코드><법정동읍면동코드>16600</법정동읍면동코드><법정동지번코드>1</법정동지번코드><아파트>이화에수풀</아파트><월>12</월><일>11~20</일><일련번호>11110-2359</일련번호><전용면적>16.98</전용면적><지번>195-10</지번><지역코드>11110</지역코드><층>4</층></item><item><거래금액>    57,000</거래금액><건축년도>2006</건축년도><년>2015</년><도로명>혜화로3가길</도로명><도로명건물본번호코드>00030</도로명건물본번호코드><도로명건물부번호코드>00000</도로명건물부번호코드><도로명시군구코드>11110</도로명시군구코드><도로명일련번호코드>01</도로명일련번호코드><도로명지상지하코드>0</도로명지상지하코드><도로명코드>4100544</도로명코드><법정동> 명륜1가</법정동><법정동본번코드>0019</법정동본번코드><법정동부번코드>0000</법정동부번코드><법정동시군구코드>11110</법정동시군구코드><법정동읍면동코드>17000</법정동읍면동코드><법정동지번코드>1</법정동지번코드><아파트>렉스빌</아파트><월>12</월><일>21~31</일><일련번호>11110-973</일련번호><전용면적>106.98</전용면적><지번>19</지번><지역코드>11110</지역코드><층>3</층></item><item><거래금액>    44,000</거래금액><건축년도>1995</건축년도><년>2015</년><도로명>창경궁로</도로명><도로명건물본번호코드>00265</도로명건물본번호코드><도로명건물부번호코드>00000</도로명건물부번호코드><도로명시군구코드>11110</도로명시군구코드><도로명일련번호코드>07</도로명일련번호코드><도로명지상지하코드>0</도로명지상지하코드><도로명코드>3005008</도로명코드><법정동> 명륜2가</법정동><법정동본번코드>0004</법정동본번코드><법정동부번코드>0000</법정동부번코드><법정동시군구코드>11110</법정동시군구코드><법정동읍면동코드>17100</법정동읍면동코드><법정동지번코드>1</법정동지번코드><아파트>아남1</아파트><월>12</월><일>1~10</일><일련번호>11110-25</일련번호><전용면적>84.8</전용면적><지번>4</지번><지역코드>11110</지역코드><층>18</층></item><item><거래금액>    52,000</거래금액><건축년도>1995</건축년도><년>2015</년><도로명>창경궁로</도로명><도로명건물본번호코드>00265</도로명건물본번호코드><도로명건물부번호코드>00000</도로명건물부번호코드><도로명시군구코드>11110</도로명시군구코드><도로명일련번호코드>07</도로명일련번호코드><도로명지상지하코드>0</도로명지상지하코드><도로명코드>3005008</도로명코드><법정동> 명륜2가</법정동><법정동본번코드>0004</법정동본번코드><법정동부번코드>0000</법정동부번코드><법정동시군구코드>11110</법정동시군구코드><법정동읍면동코드>17100</법정동읍면동코드><법정동지번코드>1</법정동지번코드><아파트>아남1</아파트><월>12</월><일>1~10</일><일련번호>11110-25</일련번호><전용면적>84.9</전용면적><지번>4</지번><지역코드>11110</지역코드><층>12</층></item></items><numOfRows>10</numOfRows><pageNo>1</pageNo><totalCount>49</totalCount></body></response>'"
      ]
     },
     "execution_count": 17,
     "metadata": {},
     "output_type": "execute_result"
    }
   ],
   "source": [
    "fullXmlString"
   ]
  },
  {
   "cell_type": "markdown",
   "metadata": {},
   "source": [
    "### 3. xml 코드 리스트에 담기"
   ]
  },
  {
   "cell_type": "code",
   "execution_count": 18,
   "metadata": {
    "collapsed": true
   },
   "outputs": [],
   "source": [
    "import xml.etree.ElementTree as ET\n",
    "from xml.etree.ElementTree import parse, Element"
   ]
  },
  {
   "cell_type": "code",
   "execution_count": 19,
   "metadata": {
    "collapsed": true
   },
   "outputs": [],
   "source": [
    "# 모든 데이터를 담을 리스트 선언\n",
    "result = []\n",
    "# xml 라이브러리 표준\n",
    "root = ET.fromstring(fullXmlString)"
   ]
  },
  {
   "cell_type": "code",
   "execution_count": 8,
   "metadata": {},
   "outputs": [
    {
     "data": {
      "text/plain": [
       "'    82,500'"
      ]
     },
     "execution_count": 8,
     "metadata": {},
     "output_type": "execute_result"
    }
   ],
   "source": [
    "# 모든 데이터를 담을 리스트 선언\n",
    "result = []\n",
    "# xml 라이브러리 표준\n",
    "root = ET.fromstring(fullXmlString)\n",
    "# body->items->item 모두 선택\n",
    "elements = root.findall('body/items/item')\n",
    "elements[0].find('거래금액').text"
   ]
  },
  {
   "cell_type": "code",
   "execution_count": 26,
   "metadata": {
    "collapsed": true
   },
   "outputs": [],
   "source": [
    "result = []\n",
    "root = ET.fromstring(fullXmlString)\n",
    "elements = root.findall('body/items/item')\n",
    "for item in elements:\n",
    "    try:\n",
    "        item_list = []\n",
    "        item_list.append(item.find('거래금액').text)\n",
    "        item_list.append(item.find('건축년도').text)\n",
    "        result.append(item_list)\n",
    "    except Exception as e:\n",
    "        print(\"This row will be ignored. \",item_list)            "
   ]
  },
  {
   "cell_type": "code",
   "execution_count": 27,
   "metadata": {},
   "outputs": [
    {
     "data": {
      "text/plain": [
       "[['    82,500', '2008'],\n",
       " ['    60,000', '1981'],\n",
       " ['   130,000', '2004'],\n",
       " ['   105,000', '2004'],\n",
       " ['   120,000', '2003'],\n",
       " ['    17,000', '2014'],\n",
       " ['    17,000', '2014'],\n",
       " ['    57,000', '2006'],\n",
       " ['    44,000', '1995'],\n",
       " ['    52,000', '1995']]"
      ]
     },
     "execution_count": 27,
     "metadata": {},
     "output_type": "execute_result"
    }
   ],
   "source": [
    "result"
   ]
  },
  {
   "cell_type": "markdown",
   "metadata": {},
   "source": [
    "### 4. 추출데이터 데이터프레임 변환"
   ]
  },
  {
   "cell_type": "code",
   "execution_count": 16,
   "metadata": {},
   "outputs": [
    {
     "data": {
      "text/html": [
       "<div>\n",
       "<style scoped>\n",
       "    .dataframe tbody tr th:only-of-type {\n",
       "        vertical-align: middle;\n",
       "    }\n",
       "\n",
       "    .dataframe tbody tr th {\n",
       "        vertical-align: top;\n",
       "    }\n",
       "\n",
       "    .dataframe thead th {\n",
       "        text-align: right;\n",
       "    }\n",
       "</style>\n",
       "<table border=\"1\" class=\"dataframe\">\n",
       "  <thead>\n",
       "    <tr style=\"text-align: right;\">\n",
       "      <th></th>\n",
       "      <th>거래금액</th>\n",
       "      <th>건축년도</th>\n",
       "    </tr>\n",
       "  </thead>\n",
       "  <tbody>\n",
       "    <tr>\n",
       "      <th>0</th>\n",
       "      <td>82,500</td>\n",
       "      <td>2008</td>\n",
       "    </tr>\n",
       "    <tr>\n",
       "      <th>1</th>\n",
       "      <td>60,000</td>\n",
       "      <td>1981</td>\n",
       "    </tr>\n",
       "    <tr>\n",
       "      <th>2</th>\n",
       "      <td>130,000</td>\n",
       "      <td>2004</td>\n",
       "    </tr>\n",
       "    <tr>\n",
       "      <th>3</th>\n",
       "      <td>105,000</td>\n",
       "      <td>2004</td>\n",
       "    </tr>\n",
       "    <tr>\n",
       "      <th>4</th>\n",
       "      <td>120,000</td>\n",
       "      <td>2003</td>\n",
       "    </tr>\n",
       "  </tbody>\n",
       "</table>\n",
       "</div>"
      ],
      "text/plain": [
       "         거래금액  건축년도\n",
       "0      82,500  2008\n",
       "1      60,000  1981\n",
       "2     130,000  2004\n",
       "3     105,000  2004\n",
       "4     120,000  2003"
      ]
     },
     "execution_count": 16,
     "metadata": {},
     "output_type": "execute_result"
    }
   ],
   "source": [
    "# 리스트 -> 데이터 프레임으로 변환\n",
    "finalResult = pd.DataFrame(result)\n",
    "finalResult.columns = [\"거래금액\",\"건축년도\"]\n",
    "finalResult.head()"
   ]
  },
  {
   "cell_type": "markdown",
   "metadata": {},
   "source": [
    "### 5. 추출데이터 csv  저장"
   ]
  },
  {
   "cell_type": "code",
   "execution_count": 127,
   "metadata": {
    "collapsed": true
   },
   "outputs": [],
   "source": [
    "finalResult.to_csv(\"xmlResult.csv\", encoding = \"ms949\")"
   ]
  },
  {
   "cell_type": "markdown",
   "metadata": {},
   "source": [
    "# 2. 통계청 사이트 API 데이터 가져오기"
   ]
  },
  {
   "cell_type": "code",
   "execution_count": 128,
   "metadata": {
    "collapsed": true
   },
   "outputs": [],
   "source": [
    "# 라이브러리 선언\n",
    "import pandas as pd\n",
    "import requests\n",
    "from pandas.io.json import json_normalize"
   ]
  },
  {
   "cell_type": "code",
   "execution_count": 130,
   "metadata": {},
   "outputs": [
    {
     "data": {
      "text/html": [
       "<div>\n",
       "<style scoped>\n",
       "    .dataframe tbody tr th:only-of-type {\n",
       "        vertical-align: middle;\n",
       "    }\n",
       "\n",
       "    .dataframe tbody tr th {\n",
       "        vertical-align: top;\n",
       "    }\n",
       "\n",
       "    .dataframe thead th {\n",
       "        text-align: right;\n",
       "    }\n",
       "</style>\n",
       "<table border=\"1\" class=\"dataframe\">\n",
       "  <thead>\n",
       "    <tr style=\"text-align: right;\">\n",
       "      <th></th>\n",
       "      <th>C1</th>\n",
       "      <th>C1_NM</th>\n",
       "      <th>C1_NM_ENG</th>\n",
       "      <th>C1_OBJ_NM</th>\n",
       "      <th>C1_OBJ_NM_ENG</th>\n",
       "      <th>C2</th>\n",
       "      <th>C2_NM</th>\n",
       "      <th>C2_NM_ENG</th>\n",
       "      <th>C2_OBJ_NM</th>\n",
       "      <th>C2_OBJ_NM_ENG</th>\n",
       "      <th>...</th>\n",
       "      <th>ITM_ID</th>\n",
       "      <th>ITM_NM</th>\n",
       "      <th>ITM_NM_ENG</th>\n",
       "      <th>ORG_ID</th>\n",
       "      <th>PRD_DE</th>\n",
       "      <th>PRD_SE</th>\n",
       "      <th>TBL_ID</th>\n",
       "      <th>TBL_NM</th>\n",
       "      <th>UNIT_NM</th>\n",
       "      <th>UNIT_NM_ENG</th>\n",
       "    </tr>\n",
       "  </thead>\n",
       "  <tbody>\n",
       "    <tr>\n",
       "      <th>0</th>\n",
       "      <td>0</td>\n",
       "      <td>수주총액</td>\n",
       "      <td>Total amount of orders received</td>\n",
       "      <td>발주자별</td>\n",
       "      <td>By the kind of orderer</td>\n",
       "      <td>1</td>\n",
       "      <td>건축</td>\n",
       "      <td>Building</td>\n",
       "      <td>공종별</td>\n",
       "      <td>By the kind of construction works</td>\n",
       "      <td>...</td>\n",
       "      <td>T10</td>\n",
       "      <td>수주액</td>\n",
       "      <td>Value of order received</td>\n",
       "      <td>101</td>\n",
       "      <td>201812</td>\n",
       "      <td>M</td>\n",
       "      <td>DT_1G1B002</td>\n",
       "      <td>발주자/공종별 건설수주액(경상)</td>\n",
       "      <td>백만원</td>\n",
       "      <td>Million Won</td>\n",
       "    </tr>\n",
       "    <tr>\n",
       "      <th>1</th>\n",
       "      <td>0</td>\n",
       "      <td>수주총액</td>\n",
       "      <td>Total amount of orders received</td>\n",
       "      <td>발주자별</td>\n",
       "      <td>By the kind of orderer</td>\n",
       "      <td>1</td>\n",
       "      <td>건축</td>\n",
       "      <td>Building</td>\n",
       "      <td>공종별</td>\n",
       "      <td>By the kind of construction works</td>\n",
       "      <td>...</td>\n",
       "      <td>T10</td>\n",
       "      <td>수주액</td>\n",
       "      <td>Value of order received</td>\n",
       "      <td>101</td>\n",
       "      <td>201901</td>\n",
       "      <td>M</td>\n",
       "      <td>DT_1G1B002</td>\n",
       "      <td>발주자/공종별 건설수주액(경상)</td>\n",
       "      <td>백만원</td>\n",
       "      <td>Million Won</td>\n",
       "    </tr>\n",
       "    <tr>\n",
       "      <th>2</th>\n",
       "      <td>0</td>\n",
       "      <td>수주총액</td>\n",
       "      <td>Total amount of orders received</td>\n",
       "      <td>발주자별</td>\n",
       "      <td>By the kind of orderer</td>\n",
       "      <td>1</td>\n",
       "      <td>건축</td>\n",
       "      <td>Building</td>\n",
       "      <td>공종별</td>\n",
       "      <td>By the kind of construction works</td>\n",
       "      <td>...</td>\n",
       "      <td>T10</td>\n",
       "      <td>수주액</td>\n",
       "      <td>Value of order received</td>\n",
       "      <td>101</td>\n",
       "      <td>201902</td>\n",
       "      <td>M</td>\n",
       "      <td>DT_1G1B002</td>\n",
       "      <td>발주자/공종별 건설수주액(경상)</td>\n",
       "      <td>백만원</td>\n",
       "      <td>Million Won</td>\n",
       "    </tr>\n",
       "  </tbody>\n",
       "</table>\n",
       "<p>3 rows × 21 columns</p>\n",
       "</div>"
      ],
      "text/plain": [
       "  C1 C1_NM                        C1_NM_ENG C1_OBJ_NM           C1_OBJ_NM_ENG  \\\n",
       "0  0  수주총액  Total amount of orders received      발주자별  By the kind of orderer   \n",
       "1  0  수주총액  Total amount of orders received      발주자별  By the kind of orderer   \n",
       "2  0  수주총액  Total amount of orders received      발주자별  By the kind of orderer   \n",
       "\n",
       "  C2 C2_NM C2_NM_ENG C2_OBJ_NM                      C2_OBJ_NM_ENG  \\\n",
       "0  1    건축  Building       공종별  By the kind of construction works   \n",
       "1  1    건축  Building       공종별  By the kind of construction works   \n",
       "2  1    건축  Building       공종별  By the kind of construction works   \n",
       "\n",
       "      ...      ITM_ID ITM_NM               ITM_NM_ENG ORG_ID  PRD_DE PRD_SE  \\\n",
       "0     ...         T10    수주액  Value of order received    101  201812      M   \n",
       "1     ...         T10    수주액  Value of order received    101  201901      M   \n",
       "2     ...         T10    수주액  Value of order received    101  201902      M   \n",
       "\n",
       "       TBL_ID             TBL_NM UNIT_NM  UNIT_NM_ENG  \n",
       "0  DT_1G1B002  발주자/공종별 건설수주액(경상)     백만원  Million Won  \n",
       "1  DT_1G1B002  발주자/공종별 건설수주액(경상)     백만원  Million Won  \n",
       "2  DT_1G1B002  발주자/공종별 건설수주액(경상)     백만원  Million Won  \n",
       "\n",
       "[3 rows x 21 columns]"
      ]
     },
     "execution_count": 130,
     "metadata": {},
     "output_type": "execute_result"
    }
   ],
   "source": [
    "# 데이터 접속 주소 입력\n",
    "url = 'http://kosis.kr/openapi/Param/statisticsParameterData.do?method=getList&apiKey=MjUzMTdiMjcyZjQwY2VkMWJkY2RkYTRmZDkwMWQ3ZGY=&itmId=T10+&objL1=0+&objL2=1+&objL3=&objL4=&objL5=&objL6=&objL7=&objL8=&format=json&jsonVD=Y&prdSe=M&newEstPrdCnt=3&loadGubun=1&orgId=101&tblId=DT_1G1B002'\n",
    "# 정상 여부 확인 (200 정상)\n",
    "response = requests.get(url)\n",
    "response\n",
    "# JSON 데이터 획득\n",
    "json = response.json()\n",
    "# PandasDataframe변환\n",
    "df = json_normalize(json)\n",
    "df.head()"
   ]
  },
  {
   "cell_type": "code",
   "execution_count": 1,
   "metadata": {
    "collapsed": true
   },
   "outputs": [],
   "source": [
    "import pandas as pd\n",
    "import requests\n",
    "import io\n",
    "\n",
    "url = 'https://query1.finance.yahoo.com/v7/finance/download/GOOG'\n",
    "params ={'period1':1538761929,\n",
    "         'period2':1541443929,\n",
    "         'interval':'1d',\n",
    "         'events':'history',\n",
    "         'crumb':'v4z6ZpmoP98',\n",
    "        }\n",
    "\n",
    "r = requests.post(url,data=params)\n",
    "if r.ok:\n",
    "    data = r.content.decode('utf8')\n",
    "    df = pd.read_csv(io.StringIO(data))"
   ]
  },
  {
   "cell_type": "code",
   "execution_count": 131,
   "metadata": {},
   "outputs": [
    {
     "data": {
      "text/html": [
       "<div>\n",
       "<style scoped>\n",
       "    .dataframe tbody tr th:only-of-type {\n",
       "        vertical-align: middle;\n",
       "    }\n",
       "\n",
       "    .dataframe tbody tr th {\n",
       "        vertical-align: top;\n",
       "    }\n",
       "\n",
       "    .dataframe thead th {\n",
       "        text-align: right;\n",
       "    }\n",
       "</style>\n",
       "<table border=\"1\" class=\"dataframe\">\n",
       "  <thead>\n",
       "    <tr style=\"text-align: right;\">\n",
       "      <th></th>\n",
       "      <th>C1</th>\n",
       "      <th>C1_NM</th>\n",
       "      <th>C1_NM_ENG</th>\n",
       "      <th>C1_OBJ_NM</th>\n",
       "      <th>C1_OBJ_NM_ENG</th>\n",
       "      <th>C2</th>\n",
       "      <th>C2_NM</th>\n",
       "      <th>C2_NM_ENG</th>\n",
       "      <th>C2_OBJ_NM</th>\n",
       "      <th>C2_OBJ_NM_ENG</th>\n",
       "      <th>...</th>\n",
       "      <th>ITM_ID</th>\n",
       "      <th>ITM_NM</th>\n",
       "      <th>ITM_NM_ENG</th>\n",
       "      <th>ORG_ID</th>\n",
       "      <th>PRD_DE</th>\n",
       "      <th>PRD_SE</th>\n",
       "      <th>TBL_ID</th>\n",
       "      <th>TBL_NM</th>\n",
       "      <th>UNIT_NM</th>\n",
       "      <th>UNIT_NM_ENG</th>\n",
       "    </tr>\n",
       "  </thead>\n",
       "  <tbody>\n",
       "    <tr>\n",
       "      <th>0</th>\n",
       "      <td>0</td>\n",
       "      <td>수주총액</td>\n",
       "      <td>Total amount of orders received</td>\n",
       "      <td>발주자별</td>\n",
       "      <td>By the kind of orderer</td>\n",
       "      <td>1</td>\n",
       "      <td>건축</td>\n",
       "      <td>Building</td>\n",
       "      <td>공종별</td>\n",
       "      <td>By the kind of construction works</td>\n",
       "      <td>...</td>\n",
       "      <td>T10</td>\n",
       "      <td>수주액</td>\n",
       "      <td>Value of order received</td>\n",
       "      <td>101</td>\n",
       "      <td>201812</td>\n",
       "      <td>M</td>\n",
       "      <td>DT_1G1B002</td>\n",
       "      <td>발주자/공종별 건설수주액(경상)</td>\n",
       "      <td>백만원</td>\n",
       "      <td>Million Won</td>\n",
       "    </tr>\n",
       "    <tr>\n",
       "      <th>1</th>\n",
       "      <td>0</td>\n",
       "      <td>수주총액</td>\n",
       "      <td>Total amount of orders received</td>\n",
       "      <td>발주자별</td>\n",
       "      <td>By the kind of orderer</td>\n",
       "      <td>1</td>\n",
       "      <td>건축</td>\n",
       "      <td>Building</td>\n",
       "      <td>공종별</td>\n",
       "      <td>By the kind of construction works</td>\n",
       "      <td>...</td>\n",
       "      <td>T10</td>\n",
       "      <td>수주액</td>\n",
       "      <td>Value of order received</td>\n",
       "      <td>101</td>\n",
       "      <td>201901</td>\n",
       "      <td>M</td>\n",
       "      <td>DT_1G1B002</td>\n",
       "      <td>발주자/공종별 건설수주액(경상)</td>\n",
       "      <td>백만원</td>\n",
       "      <td>Million Won</td>\n",
       "    </tr>\n",
       "    <tr>\n",
       "      <th>2</th>\n",
       "      <td>0</td>\n",
       "      <td>수주총액</td>\n",
       "      <td>Total amount of orders received</td>\n",
       "      <td>발주자별</td>\n",
       "      <td>By the kind of orderer</td>\n",
       "      <td>1</td>\n",
       "      <td>건축</td>\n",
       "      <td>Building</td>\n",
       "      <td>공종별</td>\n",
       "      <td>By the kind of construction works</td>\n",
       "      <td>...</td>\n",
       "      <td>T10</td>\n",
       "      <td>수주액</td>\n",
       "      <td>Value of order received</td>\n",
       "      <td>101</td>\n",
       "      <td>201902</td>\n",
       "      <td>M</td>\n",
       "      <td>DT_1G1B002</td>\n",
       "      <td>발주자/공종별 건설수주액(경상)</td>\n",
       "      <td>백만원</td>\n",
       "      <td>Million Won</td>\n",
       "    </tr>\n",
       "  </tbody>\n",
       "</table>\n",
       "<p>3 rows × 21 columns</p>\n",
       "</div>"
      ],
      "text/plain": [
       "  C1 C1_NM                        C1_NM_ENG C1_OBJ_NM           C1_OBJ_NM_ENG  \\\n",
       "0  0  수주총액  Total amount of orders received      발주자별  By the kind of orderer   \n",
       "1  0  수주총액  Total amount of orders received      발주자별  By the kind of orderer   \n",
       "2  0  수주총액  Total amount of orders received      발주자별  By the kind of orderer   \n",
       "\n",
       "  C2 C2_NM C2_NM_ENG C2_OBJ_NM                      C2_OBJ_NM_ENG  \\\n",
       "0  1    건축  Building       공종별  By the kind of construction works   \n",
       "1  1    건축  Building       공종별  By the kind of construction works   \n",
       "2  1    건축  Building       공종별  By the kind of construction works   \n",
       "\n",
       "      ...      ITM_ID ITM_NM               ITM_NM_ENG ORG_ID  PRD_DE PRD_SE  \\\n",
       "0     ...         T10    수주액  Value of order received    101  201812      M   \n",
       "1     ...         T10    수주액  Value of order received    101  201901      M   \n",
       "2     ...         T10    수주액  Value of order received    101  201902      M   \n",
       "\n",
       "       TBL_ID             TBL_NM UNIT_NM  UNIT_NM_ENG  \n",
       "0  DT_1G1B002  발주자/공종별 건설수주액(경상)     백만원  Million Won  \n",
       "1  DT_1G1B002  발주자/공종별 건설수주액(경상)     백만원  Million Won  \n",
       "2  DT_1G1B002  발주자/공종별 건설수주액(경상)     백만원  Million Won  \n",
       "\n",
       "[3 rows x 21 columns]"
      ]
     },
     "execution_count": 131,
     "metadata": {},
     "output_type": "execute_result"
    }
   ],
   "source": [
    "df.head()"
   ]
  },
  {
   "cell_type": "markdown",
   "metadata": {},
   "source": [
    "# 3. 파일데이터 불러오기"
   ]
  },
  {
   "cell_type": "code",
   "execution_count": 7,
   "metadata": {
    "collapsed": true
   },
   "outputs": [],
   "source": [
    "import pandas as pd"
   ]
  },
  {
   "cell_type": "code",
   "execution_count": 8,
   "metadata": {
    "collapsed": true
   },
   "outputs": [],
   "source": [
    "url = 'https://www.data.go.kr/dataset/fileDownload.do?atchFileId=FILE_000000001420537&fileDetailSn=1&publicDataDetailPk=uddi:1187ad78-3933-43e9-92ae-9ed15c7096d8_201712281357'"
   ]
  },
  {
   "cell_type": "code",
   "execution_count": 9,
   "metadata": {
    "collapsed": true
   },
   "outputs": [],
   "source": [
    "data = pd.read_csv(url, encoding='ms949')"
   ]
  },
  {
   "cell_type": "code",
   "execution_count": 6,
   "metadata": {},
   "outputs": [
    {
     "data": {
      "text/html": [
       "<div>\n",
       "<style scoped>\n",
       "    .dataframe tbody tr th:only-of-type {\n",
       "        vertical-align: middle;\n",
       "    }\n",
       "\n",
       "    .dataframe tbody tr th {\n",
       "        vertical-align: top;\n",
       "    }\n",
       "\n",
       "    .dataframe thead th {\n",
       "        text-align: right;\n",
       "    }\n",
       "</style>\n",
       "<table border=\"1\" class=\"dataframe\">\n",
       "  <thead>\n",
       "    <tr style=\"text-align: right;\">\n",
       "      <th></th>\n",
       "      <th>연도</th>\n",
       "      <th>월</th>\n",
       "      <th>전국PIR</th>\n",
       "      <th>서울PIR</th>\n",
       "      <th>부산PIR</th>\n",
       "      <th>대구PIR</th>\n",
       "      <th>인천PIR</th>\n",
       "      <th>광주PIR</th>\n",
       "      <th>대전PIR</th>\n",
       "      <th>울산PIR</th>\n",
       "      <th>...</th>\n",
       "      <th>세종LIR</th>\n",
       "      <th>경기LIR</th>\n",
       "      <th>강원LIR</th>\n",
       "      <th>충북LIR</th>\n",
       "      <th>충남LIR</th>\n",
       "      <th>전북LIR</th>\n",
       "      <th>전남LIR</th>\n",
       "      <th>경북LIR</th>\n",
       "      <th>경남LIR</th>\n",
       "      <th>제주LIR</th>\n",
       "    </tr>\n",
       "  </thead>\n",
       "  <tbody>\n",
       "    <tr>\n",
       "      <th>0</th>\n",
       "      <td>2004</td>\n",
       "      <td>3</td>\n",
       "      <td>4.21</td>\n",
       "      <td>4.89</td>\n",
       "      <td>3.95</td>\n",
       "      <td>3.73</td>\n",
       "      <td>4.65</td>\n",
       "      <td>2.81</td>\n",
       "      <td>4.68</td>\n",
       "      <td>2.66</td>\n",
       "      <td>...</td>\n",
       "      <td>-</td>\n",
       "      <td>2.42</td>\n",
       "      <td>1.44</td>\n",
       "      <td>1.53</td>\n",
       "      <td>1.21</td>\n",
       "      <td>1.90</td>\n",
       "      <td>1.42</td>\n",
       "      <td>1.31</td>\n",
       "      <td>2.06</td>\n",
       "      <td>1.28</td>\n",
       "    </tr>\n",
       "    <tr>\n",
       "      <th>1</th>\n",
       "      <td>2004</td>\n",
       "      <td>4</td>\n",
       "      <td>4.39</td>\n",
       "      <td>5.59</td>\n",
       "      <td>3.91</td>\n",
       "      <td>3.88</td>\n",
       "      <td>4.59</td>\n",
       "      <td>2.92</td>\n",
       "      <td>3.83</td>\n",
       "      <td>2.74</td>\n",
       "      <td>...</td>\n",
       "      <td>-</td>\n",
       "      <td>2.79</td>\n",
       "      <td>1.18</td>\n",
       "      <td>1.71</td>\n",
       "      <td>1.97</td>\n",
       "      <td>1.57</td>\n",
       "      <td>1.33</td>\n",
       "      <td>1.26</td>\n",
       "      <td>1.92</td>\n",
       "      <td>2.46</td>\n",
       "    </tr>\n",
       "    <tr>\n",
       "      <th>2</th>\n",
       "      <td>2004</td>\n",
       "      <td>5</td>\n",
       "      <td>4.19</td>\n",
       "      <td>5.14</td>\n",
       "      <td>4.90</td>\n",
       "      <td>3.83</td>\n",
       "      <td>4.78</td>\n",
       "      <td>3.41</td>\n",
       "      <td>4.19</td>\n",
       "      <td>2.93</td>\n",
       "      <td>...</td>\n",
       "      <td>-</td>\n",
       "      <td>2.22</td>\n",
       "      <td>1.44</td>\n",
       "      <td>1.72</td>\n",
       "      <td>1.85</td>\n",
       "      <td>1.75</td>\n",
       "      <td>1.31</td>\n",
       "      <td>1.50</td>\n",
       "      <td>1.85</td>\n",
       "      <td>2.14</td>\n",
       "    </tr>\n",
       "    <tr>\n",
       "      <th>3</th>\n",
       "      <td>2004</td>\n",
       "      <td>6</td>\n",
       "      <td>4.09</td>\n",
       "      <td>4.38</td>\n",
       "      <td>4.20</td>\n",
       "      <td>3.77</td>\n",
       "      <td>4.30</td>\n",
       "      <td>2.83</td>\n",
       "      <td>4.19</td>\n",
       "      <td>2.81</td>\n",
       "      <td>...</td>\n",
       "      <td>-</td>\n",
       "      <td>2.62</td>\n",
       "      <td>1.53</td>\n",
       "      <td>1.57</td>\n",
       "      <td>1.79</td>\n",
       "      <td>1.64</td>\n",
       "      <td>1.19</td>\n",
       "      <td>1.56</td>\n",
       "      <td>1.89</td>\n",
       "      <td>1.81</td>\n",
       "    </tr>\n",
       "    <tr>\n",
       "      <th>4</th>\n",
       "      <td>2004</td>\n",
       "      <td>7</td>\n",
       "      <td>4.29</td>\n",
       "      <td>5.88</td>\n",
       "      <td>4.43</td>\n",
       "      <td>4.28</td>\n",
       "      <td>4.81</td>\n",
       "      <td>3.32</td>\n",
       "      <td>4.35</td>\n",
       "      <td>2.54</td>\n",
       "      <td>...</td>\n",
       "      <td>-</td>\n",
       "      <td>2.41</td>\n",
       "      <td>1.68</td>\n",
       "      <td>1.91</td>\n",
       "      <td>2.15</td>\n",
       "      <td>1.64</td>\n",
       "      <td>1.36</td>\n",
       "      <td>1.50</td>\n",
       "      <td>1.93</td>\n",
       "      <td>2.63</td>\n",
       "    </tr>\n",
       "  </tbody>\n",
       "</table>\n",
       "<p>5 rows × 38 columns</p>\n",
       "</div>"
      ],
      "text/plain": [
       "     연도  월  전국PIR  서울PIR  부산PIR  대구PIR  인천PIR  광주PIR  대전PIR  울산PIR  ...    \\\n",
       "0  2004  3   4.21   4.89   3.95   3.73   4.65   2.81   4.68   2.66  ...     \n",
       "1  2004  4   4.39   5.59   3.91   3.88   4.59   2.92   3.83   2.74  ...     \n",
       "2  2004  5   4.19   5.14   4.90   3.83   4.78   3.41   4.19   2.93  ...     \n",
       "3  2004  6   4.09   4.38   4.20   3.77   4.30   2.83   4.19   2.81  ...     \n",
       "4  2004  7   4.29   5.88   4.43   4.28   4.81   3.32   4.35   2.54  ...     \n",
       "\n",
       "  세종LIR  경기LIR  강원LIR  충북LIR  충남LIR  전북LIR  전남LIR  경북LIR  경남LIR  제주LIR  \n",
       "0     -   2.42   1.44   1.53   1.21   1.90   1.42   1.31   2.06   1.28  \n",
       "1     -   2.79   1.18   1.71   1.97   1.57   1.33   1.26   1.92   2.46  \n",
       "2     -   2.22   1.44   1.72   1.85   1.75   1.31   1.50   1.85   2.14  \n",
       "3     -   2.62   1.53   1.57   1.79   1.64   1.19   1.56   1.89   1.81  \n",
       "4     -   2.41   1.68   1.91   2.15   1.64   1.36   1.50   1.93   2.63  \n",
       "\n",
       "[5 rows x 38 columns]"
      ]
     },
     "execution_count": 6,
     "metadata": {},
     "output_type": "execute_result"
    }
   ],
   "source": [
    "data.head()"
   ]
  }
 ],
 "metadata": {
  "kernelspec": {
   "display_name": "Python 3",
   "language": "python",
   "name": "python3"
  },
  "language_info": {
   "codemirror_mode": {
    "name": "ipython",
    "version": 3
   },
   "file_extension": ".py",
   "mimetype": "text/x-python",
   "name": "python",
   "nbconvert_exporter": "python",
   "pygments_lexer": "ipython3",
   "version": "3.6.3"
  }
 },
 "nbformat": 4,
 "nbformat_minor": 2
}
