{
 "cells": [
  {
   "cell_type": "code",
   "execution_count": null,
   "metadata": {},
   "outputs": [],
   "source": [
    "from isoweek import Week"
   ]
  },
  {
   "cell_type": "code",
   "execution_count": null,
   "metadata": {},
   "outputs": [],
   "source": [
    "curryYear = 2015"
   ]
  },
  {
   "cell_type": "code",
   "execution_count": null,
   "metadata": {},
   "outputs": [],
   "source": [
    "Week.last_week_of_year(curryYear).week"
   ]
  },
  {
   "cell_type": "code",
   "execution_count": null,
   "metadata": {},
   "outputs": [],
   "source": [
    "def preWeek(inputYearWeek, GapWeek):\n",
    "    if type(GapWeek) == str:\n",
    "        GapWeek = int(GapWeek)\n",
    "    else :\n",
    "        GapWeek = GapWeek\n",
    "    strYearWeek = str(inputYearWeek)\n",
    "    strYear = strYearWeek[:4]\n",
    "    currYear = int(strYear)\n",
    "    strWeek = strYearWeek[4:]\n",
    "    currWeek = int(strWeek)\n",
    "    \n",
    "    while currWeek <= GapWeek:\n",
    "        currYear = currYear - 1\n",
    "        GapWeek = GapWeek - currWeek\n",
    "        currWeek = Week.last_week_of_year(currYear).week\n",
    "    currWeek = currWeek - GapWeek\n",
    "    year = str(currYear) \n",
    "    \n",
    "    if currWeek < 10:\n",
    "        week = \"0\" + str(currWeek)\n",
    "    else:\n",
    "        week = str(currWeek)\n",
    "    return year + week"
   ]
  },
  {
   "cell_type": "code",
   "execution_count": null,
   "metadata": {},
   "outputs": [],
   "source": [
    "preWeek(\"201952\", 42)"
   ]
  }
 ],
 "metadata": {
  "kernelspec": {
   "display_name": "Python 3",
   "language": "python",
   "name": "python3"
  },
  "language_info": {
   "codemirror_mode": {
    "name": "ipython",
    "version": 3
   },
   "file_extension": ".py",
   "mimetype": "text/x-python",
   "name": "python",
   "nbconvert_exporter": "python",
   "pygments_lexer": "ipython3",
   "version": "3.7.1"
  }
 },
 "nbformat": 4,
 "nbformat_minor": 2
}
