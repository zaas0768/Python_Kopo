{
 "cells": [
  {
   "cell_type": "code",
   "execution_count": null,
   "metadata": {},
   "outputs": [],
   "source": []
  },
  {
   "cell_type": "code",
   "execution_count": null,
   "metadata": {},
   "outputs": [],
   "source": []
  },
  {
   "cell_type": "code",
   "execution_count": 60,
   "metadata": {},
   "outputs": [],
   "source": [
    "from isoweek import Week"
   ]
  },
  {
   "cell_type": "code",
   "execution_count": 61,
   "metadata": {},
   "outputs": [],
   "source": [
    "def preWeek (inputYearWeek, inputgapWeek):\n",
    "    inputYearWeek = str(inputYearWeek)\n",
    "    currentYear = int(inputYearWeek[0:4])\n",
    "    currentWeek = int(inputYearWeek[4:])\n",
    "    Gap = currentWeek - int(inputgapWeek)\n",
    "    while Gap <= 0 :\n",
    "        currentYear = currentYear - 1\n",
    "        Gap = Week.last_week_of_year(currentYear).week + Gap\n",
    "    if (Gap < 10) :\n",
    "        returnYearWeek=str(currentYear)+\"0\"+str(Gap)\n",
    "    else:\n",
    "        returnYearWeek = str(currentYear)+str(Gap)\n",
    "\n",
    "    return returnYearWeek"
   ]
  },
  {
   "cell_type": "code",
   "execution_count": 62,
   "metadata": {},
   "outputs": [
    {
     "data": {
      "text/plain": [
       "'201810'"
      ]
     },
     "execution_count": 62,
     "metadata": {},
     "output_type": "execute_result"
    }
   ],
   "source": [
    "preWeek(201820, 10)"
   ]
  },
  {
   "cell_type": "code",
   "execution_count": null,
   "metadata": {},
   "outputs": [],
   "source": []
  }
 ],
 "metadata": {
  "kernelspec": {
   "display_name": "Python 3",
   "language": "python",
   "name": "python3"
  },
  "language_info": {
   "codemirror_mode": {
    "name": "ipython",
    "version": 3
   },
   "file_extension": ".py",
   "mimetype": "text/x-python",
   "name": "python",
   "nbconvert_exporter": "python",
   "pygments_lexer": "ipython3",
   "version": "3.7.1"
  }
 },
 "nbformat": 4,
 "nbformat_minor": 2
}
